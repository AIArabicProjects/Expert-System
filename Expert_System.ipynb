{
  "cells": [
    {
      "cell_type": "markdown",
      "source": [
        "Expert System\n"
      ],
      "metadata": {
        "id": "X9JZS-WUjj4t"
      },
      "id": "X9JZS-WUjj4t"
    },
    {
      "cell_type": "code",
      "execution_count": null,
      "id": "0fa089fe",
      "metadata": {
        "scrolled": true,
        "id": "0fa089fe"
      },
      "outputs": [],
      "source": [
        "!pip install experta"
      ]
    },
    {
      "cell_type": "code",
      "execution_count": null,
      "id": "c413bc68",
      "metadata": {
        "id": "c413bc68"
      },
      "outputs": [],
      "source": [
        "from experta import *\n",
        "import numpy as np"
      ]
    },
    {
      "cell_type": "code",
      "execution_count": null,
      "id": "fc23e4eb",
      "metadata": {
        "scrolled": false,
        "colab": {
          "base_uri": "https://localhost:8080/"
        },
        "id": "fc23e4eb",
        "outputId": "3406fea3-2719-46ea-d2df-547f6949c69b"
      },
      "outputs": [
        {
          "output_type": "execute_result",
          "data": {
            "text/plain": [
              "1"
            ]
          },
          "metadata": {},
          "execution_count": 4
        }
      ],
      "source": [
        "# we will create fact depending on the key_values\n",
        "# way 1\n",
        "f=Fact(a=1,b=2)\n",
        "f['a']"
      ]
    },
    {
      "cell_type": "code",
      "execution_count": null,
      "id": "10606e18",
      "metadata": {
        "colab": {
          "base_uri": "https://localhost:8080/",
          "height": 36
        },
        "id": "10606e18",
        "outputId": "5f0de554-5b8a-4fc1-fa0f-1088c68aa3af"
      },
      "outputs": [
        {
          "output_type": "execute_result",
          "data": {
            "text/plain": [
              "'x'"
            ],
            "application/vnd.google.colaboratory.intrinsic+json": {
              "type": "string"
            }
          },
          "metadata": {},
          "execution_count": 5
        }
      ],
      "source": [
        "#create fact without keys(only values)\n",
        "# This will create numeric index for your values\n",
        "# way 2\n",
        "f=Fact('x','y','z')\n",
        "f[0]"
      ]
    },
    {
      "cell_type": "code",
      "execution_count": null,
      "id": "8e085306",
      "metadata": {
        "colab": {
          "base_uri": "https://localhost:8080/"
        },
        "id": "8e085306",
        "outputId": "2e062161-9fe4-4e68-8c98-22294529f65c"
      },
      "outputs": [
        {
          "output_type": "stream",
          "name": "stdout",
          "text": [
            "y  2\n"
          ]
        }
      ],
      "source": [
        "# we can merge numeric values with key_values\n",
        "# but numeric values must be declared first\n",
        "f=Fact('x','y','z',a=1,b=2)\n",
        "# using index to access the fact\n",
        "print(f[1],'',f['b'])"
      ]
    },
    {
      "cell_type": "code",
      "execution_count": null,
      "id": "92dfc190",
      "metadata": {
        "colab": {
          "base_uri": "https://localhost:8080/"
        },
        "id": "92dfc190",
        "outputId": "4648421d-631c-4efe-cf6c-951177942464"
      },
      "outputs": [
        {
          "output_type": "stream",
          "name": "stdout",
          "text": [
            "<Undeclared Fact> Alert('red') \n",
            " <Undeclared Fact> Status('critical')\n"
          ]
        }
      ],
      "source": [
        "#define Facts\n",
        "class Alert (Fact):\n",
        "    \"\"\" The alert level!.\"\"\"\n",
        "    pass\n",
        "class Status (Fact):\n",
        "    \"\"\" The system status!.\"\"\"\n",
        "    pass\n",
        "f1=Alert('red')\n",
        "f2=Status('critical')\n",
        "print(f1,'\\n',f2)"
      ]
    },
    {
      "cell_type": "code",
      "execution_count": null,
      "id": "6ae687e7",
      "metadata": {
        "id": "6ae687e7"
      },
      "outputs": [],
      "source": [
        "#define Rules\n",
        "class MyFact(Fact):\n",
        "    pass\n",
        "@Rule(MyFact())       #this is the LHS\n",
        "def match_with_every_myfact():\n",
        "    \"\"\" this rule will match with every instance of \"MyFact\"\"\"\n",
        "    # this is the RHS\n",
        "    pass\n",
        "@Rule(Fact('animal',family='felinae'))\n",
        "def match_with_cats():\n",
        "    \"\"\" match with every 'Fact' which:\n",
        "    f[0]=='animal'\n",
        "    f['family']=='felinea'\n",
        "    \"\"\"\n",
        "    print('Meow!')"
      ]
    },
    {
      "cell_type": "code",
      "execution_count": null,
      "id": "80c6ed86",
      "metadata": {
        "id": "80c6ed86"
      },
      "outputs": [],
      "source": [
        "# DefFacts for a set of facts\n",
        "@DefFacts()\n",
        "def needed_data():\n",
        "    yield Fact(best_color='red')\n",
        "    yield Fact(best_body='medium')\n",
        "    yield Fact(best_sweetness='dry')"
      ]
    },
    {
      "cell_type": "code",
      "execution_count": null,
      "id": "689dd829",
      "metadata": {
        "colab": {
          "base_uri": "https://localhost:8080/"
        },
        "id": "689dd829",
        "outputId": "912f0ddd-4c15-4cc4-ba64-8bf72073654b"
      },
      "outputs": [
        {
          "output_type": "execute_result",
          "data": {
            "text/plain": [
              "Fact(color='blue')"
            ]
          },
          "metadata": {},
          "execution_count": 11
        }
      ],
      "source": [
        "# Knowledge Engine\n",
        "engine=KnowledgeEngine()\n",
        "engine.reset()\n",
        "engine.declare(Fact(color='blue'))"
      ]
    },
    {
      "cell_type": "code",
      "execution_count": null,
      "id": "0b005cf2",
      "metadata": {
        "colab": {
          "base_uri": "https://localhost:8080/"
        },
        "id": "0b005cf2",
        "outputId": "cc27a1cb-51a6-4106-d4c3-26bf0863c648"
      },
      "outputs": [
        {
          "output_type": "execute_result",
          "data": {
            "text/plain": [
              "FactList([(0, InitialFact()), (1, Fact(color='blue'))])"
            ]
          },
          "metadata": {},
          "execution_count": 12
        }
      ],
      "source": [
        "engine.facts"
      ]
    },
    {
      "cell_type": "code",
      "execution_count": null,
      "id": "11744003",
      "metadata": {
        "colab": {
          "base_uri": "https://localhost:8080/"
        },
        "id": "11744003",
        "outputId": "7d19bdb2-c914-4ec8-e672-e80485e71918"
      },
      "outputs": [
        {
          "output_type": "execute_result",
          "data": {
            "text/plain": [
              "Fact(color='blue', 'yellow', blink=True)"
            ]
          },
          "metadata": {},
          "execution_count": 13
        }
      ],
      "source": [
        "# modify some facts in the Knowledge Engine\n",
        "engine.modify(engine.facts[1],_0='yellow',blink=True)"
      ]
    },
    {
      "cell_type": "code",
      "execution_count": null,
      "id": "993b8404",
      "metadata": {
        "colab": {
          "base_uri": "https://localhost:8080/"
        },
        "id": "993b8404",
        "outputId": "c9692f78-b31e-46c5-b798-52a397877e58"
      },
      "outputs": [
        {
          "output_type": "execute_result",
          "data": {
            "text/plain": [
              "FactList([(0, InitialFact()), (2, Fact(color='blue', 'yellow', blink=True))])"
            ]
          },
          "metadata": {},
          "execution_count": 14
        }
      ],
      "source": [
        "# show the facts after they have been modified.\n",
        "engine.facts"
      ]
    },
    {
      "cell_type": "code",
      "execution_count": null,
      "id": "d7421dd6",
      "metadata": {
        "colab": {
          "base_uri": "https://localhost:8080/"
        },
        "id": "d7421dd6",
        "outputId": "bdadba77-3480-4878-9c23-91da8baab517"
      },
      "outputs": [
        {
          "output_type": "stream",
          "name": "stdout",
          "text": [
            "color_now: yellow\n",
            "Be cautious because light is yellow\n"
          ]
        },
        {
          "output_type": "execute_result",
          "data": {
            "text/plain": [
              "FactList([(0, InitialFact()), (1, Light(color='yellow'))])"
            ]
          },
          "metadata": {},
          "execution_count": 15
        }
      ],
      "source": [
        "# simple example about traffic light\n",
        "from random import choice\n",
        "from experta import *\n",
        "\n",
        "class Light(Fact):\n",
        "    \"\"\"Information about the traffic light.\"\"\"\n",
        "    pass\n",
        "\n",
        "class RobotCrossStreet(KnowledgeEngine):\n",
        "    @Rule(Light(color='green'))\n",
        "    def green_light(self):\n",
        "        print('Walk')\n",
        "    @Rule(Light(color='red'))\n",
        "    def red_light(self):\n",
        "        print(\"Don't Walk\")\n",
        "    @Rule(AS.light <<Light(color=L('yellow')|L('blinking-yellow')))\n",
        "    def cautious(self,light):\n",
        "        print(\"Be cautious because light is\",light['color'])\n",
        "\n",
        "engine=RobotCrossStreet()\n",
        "engine.reset()\n",
        "color_now=choice(['green','yellow','blinking-yellow','red'])\n",
        "print('color_now:',color_now)\n",
        "engine.declare(Light(color=color_now))\n",
        "engine.run()\n",
        "engine.facts"
      ]
    },
    {
      "cell_type": "code",
      "execution_count": null,
      "id": "13da3ccf",
      "metadata": {
        "colab": {
          "base_uri": "https://localhost:8080/"
        },
        "id": "13da3ccf",
        "outputId": "bc0fa2a3-a7ae-4ddf-de6e-bddd678e9cee"
      },
      "outputs": [
        {
          "output_type": "stream",
          "name": "stdout",
          "text": [
            "animal: cat\n",
            "meow\n"
          ]
        },
        {
          "output_type": "execute_result",
          "data": {
            "text/plain": [
              "FactList([(0, InitialFact()), (1, Animal('cat'))])"
            ]
          },
          "metadata": {},
          "execution_count": 16
        }
      ],
      "source": [
        "# simple example about animal\n",
        "class Animal(Fact):\n",
        "    \"\"\"Info about animal type\"\"\"\n",
        "    pass\n",
        "\n",
        "class AnimalKE1(KnowledgeEngine):\n",
        "    @Rule(Animal('cat'))\n",
        "    def cat_sound(self):\n",
        "        print('meow')\n",
        "    @Rule(Animal('duck'))\n",
        "    def duck_sound(self):\n",
        "        print('quack')\n",
        "        \n",
        "engine=AnimalKE1()\n",
        "engine.reset()\n",
        "animal_type=choice(['cat','duck','horse'])\n",
        "print('animal:',animal_type)\n",
        "engine.declare(Animal(animal_type))\n",
        "engine.run()\n",
        "engine.facts"
      ]
    },
    {
      "cell_type": "code",
      "execution_count": null,
      "id": "4a890b8a",
      "metadata": {
        "colab": {
          "base_uri": "https://localhost:8080/"
        },
        "id": "4a890b8a",
        "outputId": "e4dd881a-b3ed-47c6-90a6-eb47bc96e0ca"
      },
      "outputs": [
        {
          "output_type": "stream",
          "name": "stdout",
          "text": [
            "Animal is duck\n",
            "Sound is quack\n"
          ]
        }
      ],
      "source": [
        "class Animal(Fact):\n",
        "    \"\"\"Info about animal type\"\"\"\n",
        "    pass\n",
        "\n",
        "class AnimalKE2(KnowledgeEngine):\n",
        "    @Rule(AND(Animal(has='feathers')),Animal(has='webbed-feet'))\n",
        "    def guess_animal(self):\n",
        "        print('Animal is duck')\n",
        "        print('Sound is quack')\n",
        "        \n",
        "engine=AnimalKE2()\n",
        "engine.reset()\n",
        "engine.declare(Animal(has='feathers'),Animal(has='webbed-feet'))\n",
        "engine.run()"
      ]
    },
    {
      "cell_type": "code",
      "execution_count": null,
      "id": "f77abb9b",
      "metadata": {
        "colab": {
          "base_uri": "https://localhost:8080/"
        },
        "id": "f77abb9b",
        "outputId": "d2d27dac-f42d-4958-b3f0-c0248cf36248"
      },
      "outputs": [
        {
          "output_type": "stream",
          "name": "stdout",
          "text": [
            "<f-0>: InitialFact()\n",
            "<f-1>: Animal(has='feathers')\n",
            "<f-2>: Animal(has='webbed-feet')\n",
            "<f-3>: Animal('duck')\n",
            "Animal is duck\n",
            "Sound is quack\n"
          ]
        }
      ],
      "source": [
        "# conclude a fact\n",
        "class Animal(Fact):\n",
        "    \"\"\"Info about animal type\"\"\"\n",
        "    pass\n",
        "\n",
        "class AnimalKE3(KnowledgeEngine):\n",
        "    @Rule(AND(Animal(has='feathers'),Animal(has='webbed-feet')))\n",
        "    def guess_animal(self):\n",
        "        self.declare(Animal('duck'))\n",
        "        print(self.facts)\n",
        "    @Rule(Animal('duck'))\n",
        "    def it_is_duck(self):\n",
        "        print('Animal is duck')\n",
        "        print(\"Sound is quack\")\n",
        "        \n",
        "engine=AnimalKE3()\n",
        "engine.reset()\n",
        "engine.declare(Animal(has='feathers'),Animal(has='webbed-feet'))\n",
        "engine.run()"
      ]
    },
    {
      "cell_type": "code",
      "execution_count": null,
      "id": "2b52bbb5",
      "metadata": {
        "id": "2b52bbb5"
      },
      "outputs": [],
      "source": []
    }
  ],
  "metadata": {
    "kernelspec": {
      "display_name": "Python 3 (ipykernel)",
      "language": "python",
      "name": "python3"
    },
    "language_info": {
      "codemirror_mode": {
        "name": "ipython",
        "version": 3
      },
      "file_extension": ".py",
      "mimetype": "text/x-python",
      "name": "python",
      "nbconvert_exporter": "python",
      "pygments_lexer": "ipython3",
      "version": "3.9.13"
    },
    "colab": {
      "provenance": []
    }
  },
  "nbformat": 4,
  "nbformat_minor": 5
}